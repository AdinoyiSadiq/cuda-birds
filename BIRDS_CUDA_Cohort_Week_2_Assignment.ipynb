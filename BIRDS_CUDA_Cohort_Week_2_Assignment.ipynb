{
  "nbformat": 4,
  "nbformat_minor": 0,
  "metadata": {
    "colab": {
      "provenance": [],
      "include_colab_link": true
    },
    "kernelspec": {
      "name": "python3",
      "display_name": "Python 3"
    },
    "language_info": {
      "name": "python"
    }
  },
  "cells": [
    {
      "cell_type": "markdown",
      "metadata": {
        "id": "view-in-github",
        "colab_type": "text"
      },
      "source": [
        "<a href=\"https://colab.research.google.com/github/AdinoyiSadiq/cuda-birds/blob/main/BIRDS_CUDA_Cohort_Week_2_Assignment.ipynb\" target=\"_parent\"><img src=\"https://colab.research.google.com/assets/colab-badge.svg\" alt=\"Open In Colab\"/></a>"
      ]
    },
    {
      "cell_type": "markdown",
      "source": [
        "**Q1. Create a simple Python script that starts two threads; each thread should print numbers from 1 to 5 with a delay of 1 second between each number.**"
      ],
      "metadata": {
        "id": "3n714FyEdcaX"
      }
    },
    {
      "cell_type": "code",
      "execution_count": 1,
      "metadata": {
        "id": "nxLk8gLmcx1_",
        "colab": {
          "base_uri": "https://localhost:8080/"
        },
        "outputId": "c3f14f79-272e-4676-bba2-b8a54fe83208"
      },
      "outputs": [
        {
          "output_type": "stream",
          "name": "stdout",
          "text": [
            "Starting thread A.\n",
            "Thread A iteration 1.\n",
            "Starting thread B.\n",
            "Thread B iteration 1.\n",
            "Thread A iteration 2.\n",
            "Thread B iteration 2.\n",
            "Thread A iteration 3.\n",
            "Thread B iteration 3.\n",
            "Thread A iteration 4.\n",
            "Thread A iteration 5.\n",
            "Thread B iteration 4.\n",
            "Thread B iteration 5.\n"
          ]
        }
      ],
      "source": [
        "import threading\n",
        "import time\n",
        "\n",
        "def thread_task(name, delay):\n",
        "  print(f\"Starting thread {name}.\")\n",
        "\n",
        "  for number in range(1, 6):\n",
        "    print(f\"Thread {name} iteration {number}.\")\n",
        "    time.sleep(delay)\n",
        "\n",
        "# Create threads\n",
        "thread1 = threading.Thread(target=thread_task, args=(\"A\", 2))\n",
        "thread2 = threading.Thread(target=thread_task, args=(\"B\", 3))\n",
        "\n",
        "# Start threads\n",
        "thread1.start()\n",
        "thread2.start()\n",
        "\n",
        "# Wait for threads to complete\n",
        "thread1.join()\n",
        "thread2.join()"
      ]
    },
    {
      "cell_type": "markdown",
      "source": [
        "**Q2. Write a Python program where two threads print alternating messages like \"Ping\" and \"Pong\" respectively.**"
      ],
      "metadata": {
        "id": "8IFT0vwhdhKe"
      }
    },
    {
      "cell_type": "code",
      "source": [
        "from threading import Thread, Lock\n",
        "import time\n",
        "\n",
        "counter = 0\n",
        "\n",
        "lock = Lock()\n",
        "\n",
        "def print_callType(name, counter):\n",
        "  callType = \"Ping\" if (counter % 2) == 0 else \"Pong\"\n",
        "  print(f\"Thread {name} {callType}.\")\n",
        "\n",
        "def thread_task(name, delay, lock):\n",
        "  global counter\n",
        "\n",
        "  while counter < 10:\n",
        "    with lock:\n",
        "      print_callType(name, counter)\n",
        "      counter += 1\n",
        "\n",
        "    time.sleep(delay)\n",
        "\n",
        "# Create threads\n",
        "thread1 = Thread(target=thread_task, args=(\"A\", 1, lock))\n",
        "thread2 = Thread(target=thread_task, args=(\"B\", 1, lock))\n",
        "\n",
        "# Start threads\n",
        "thread1.start()\n",
        "thread2.start()\n",
        "\n",
        "# Wait for threads to complete\n",
        "thread1.join()\n",
        "thread2.join()"
      ],
      "metadata": {
        "id": "ozXZzwCsdhcu",
        "colab": {
          "base_uri": "https://localhost:8080/"
        },
        "outputId": "44da861c-2644-4e14-bb72-f28134fbcc48"
      },
      "execution_count": 38,
      "outputs": [
        {
          "output_type": "stream",
          "name": "stdout",
          "text": [
            "Thread A Ping.\n",
            "Thread B Pong.\n",
            "Thread A Ping.\n",
            "Thread B Pong.\n",
            "Thread A Ping.\n",
            "Thread B Pong.\n",
            "Thread A Ping.\n",
            "Thread B Pong.\n",
            "Thread A Ping.\n",
            "Thread B Pong.\n"
          ]
        }
      ]
    },
    {
      "cell_type": "markdown",
      "source": [
        "**Q3. Write a Python program using threads where a semaphore is used to limit access to a shared resource. For example, simulate a scenario where only a certain number of threads can write to a shared file at the same time. But feel free to choose any setting.**\n",
        "\n",
        "P.S. You can just copy-paste from the colab we used in the Session. But make sure you understand it!"
      ],
      "metadata": {
        "id": "8uewwr30fg-R"
      }
    },
    {
      "cell_type": "code",
      "source": [],
      "metadata": {
        "id": "RYdRBoA5fg1X"
      },
      "execution_count": null,
      "outputs": []
    },
    {
      "cell_type": "markdown",
      "source": [
        "**Q4. [OPTIONAL] Write a simple usecase of Mutex in C++. No need to run just dump the code in multiline comment below.**"
      ],
      "metadata": {
        "id": "OvP_fREcfgqc"
      }
    },
    {
      "cell_type": "code",
      "source": [
        "\"\"\"\n",
        "[C++ CODE GOES HERE]\n",
        "\"\"\""
      ],
      "metadata": {
        "id": "WeuCggdffgWH"
      },
      "execution_count": null,
      "outputs": []
    },
    {
      "cell_type": "markdown",
      "source": [
        "**Q5. [OPTIONAL] DINING PHILOSOPHER'S PROBLEM**\n",
        "\n",
        "* There are five philosophers sitting around a dining table.\n",
        "* Each philosopher thinks and eats spaghetti.\n",
        "* To eat, a philosopher must have two forks (one on the left and one on the right).\n",
        "* There is a single fork between each pair of adjacent philosophers.\n",
        "* Philosophers must pick up both forks to eat and put them down when they're done."
      ],
      "metadata": {
        "id": "nI9buA_Vd07A"
      }
    },
    {
      "cell_type": "code",
      "source": [],
      "metadata": {
        "id": "8z9a_qcfffZK"
      },
      "execution_count": null,
      "outputs": []
    }
  ]
}